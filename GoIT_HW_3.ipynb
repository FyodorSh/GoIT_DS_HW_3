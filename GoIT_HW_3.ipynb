{
  "nbformat": 4,
  "nbformat_minor": 0,
  "metadata": {
    "colab": {
      "provenance": []
    },
    "kernelspec": {
      "name": "python3",
      "display_name": "Python 3"
    },
    "language_info": {
      "name": "python"
    }
  },
  "cells": [
    {
      "cell_type": "code",
      "execution_count": 239,
      "metadata": {
        "id": "UUeImRK9FB6f"
      },
      "outputs": [],
      "source": [
        "from google.colab import drive\n",
        "import pandas as pd\n",
        "import numpy as np\n",
        "import seaborn as sns\n",
        "import matplotlib.pyplot as plt\n",
        "from sklearn.linear_model import LinearRegression\n",
        "%matplotlib inline"
      ]
    },
    {
      "cell_type": "code",
      "source": [
        "drive.mount('/content/drive/')\n",
        "\n",
        "housing = pd.read_csv('/content/drive/MyDrive/Colab Notebooks/Housing.csv')"
      ],
      "metadata": {
        "colab": {
          "base_uri": "https://localhost:8080/"
        },
        "id": "SFIEaR0fFSGK",
        "outputId": "8fba5522-7884-470f-ad64-b8b8560c9387"
      },
      "execution_count": 240,
      "outputs": [
        {
          "output_type": "stream",
          "name": "stdout",
          "text": [
            "Drive already mounted at /content/drive/; to attempt to forcibly remount, call drive.mount(\"/content/drive/\", force_remount=True).\n"
          ]
        }
      ]
    },
    {
      "cell_type": "markdown",
      "source": [
        "Гіпотеза"
      ],
      "metadata": {
        "id": "VymbuivC8gZ8"
      }
    },
    {
      "cell_type": "code",
      "source": [
        "def h(X, w):\n",
        "    return np.dot(X, w)"
      ],
      "metadata": {
        "id": "3j5oF9nONLDM"
      },
      "execution_count": 241,
      "outputs": []
    },
    {
      "cell_type": "markdown",
      "source": [
        "Функція втрат"
      ],
      "metadata": {
        "id": "6--nJ1ua8igA"
      }
    },
    {
      "cell_type": "code",
      "source": [
        "def loss_function(X, y, w):\n",
        "    m = y.shape[0]\n",
        "    \n",
        "    y_pred = h(X, w)        \n",
        "    cost = (1 / (2 * m)) * np.sum(np.square(y_pred - y))\n",
        "    return cost"
      ],
      "metadata": {
        "id": "pq6IkEVQNQsv"
      },
      "execution_count": 242,
      "outputs": []
    },
    {
      "cell_type": "markdown",
      "source": [
        "Градієнтний спуск"
      ],
      "metadata": {
        "id": "bNN5GM4n8met"
      }
    },
    {
      "cell_type": "code",
      "source": [
        "def gradient(X, y, w):\n",
        "    m = y.size\n",
        "    y_pred = h(X, w)\n",
        "    grad = X.T @ (y_pred - y)\n",
        "    return grad / m"
      ],
      "metadata": {
        "id": "s2_HzPJNNti2"
      },
      "execution_count": 243,
      "outputs": []
    },
    {
      "cell_type": "code",
      "source": [
        "def grad_descent(X, y, w, num_iterations, learning_rate):\n",
        "    best_loss = np.inf\n",
        "    loss_history = []\n",
        "    for i in range(num_iterations):    \n",
        "        w -= learning_rate * gradient(X, y, w)\n",
        "\n",
        "        loss = loss_function(X, y, w)\n",
        "        loss_history.append(loss)\n",
        "    \n",
        "        if loss < best_loss:\n",
        "            best_loss = loss\n",
        "            best_weights = w.copy()\n",
        "\n",
        "    return best_weights, loss_history"
      ],
      "metadata": {
        "id": "dWmXtwpWyHB7"
      },
      "execution_count": 244,
      "outputs": []
    },
    {
      "cell_type": "markdown",
      "source": [
        "Нормалізація"
      ],
      "metadata": {
        "id": "xAFU0Djc8oHj"
      }
    },
    {
      "cell_type": "code",
      "source": [
        "def norm(data):\n",
        "    data_mean = data.mean(axis = 0)\n",
        "    data_std = data.std(axis = 0)\n",
        "    return (data - data_mean) / data_std"
      ],
      "metadata": {
        "id": "WanQdOFfRxuB"
      },
      "execution_count": 245,
      "outputs": []
    },
    {
      "cell_type": "markdown",
      "source": [
        "Розрахунок"
      ],
      "metadata": {
        "id": "bwh4LcIg84mF"
      }
    },
    {
      "cell_type": "code",
      "source": [
        "X = housing[[\"area\", \"bedrooms\", \"bathrooms\"]].values\n",
        "y = housing[\"price\"].values.reshape(-1, 1)\n",
        "\n",
        "X_norm = norm(X)\n",
        "y_norm = norm(y)\n",
        "\n",
        "X_norm = np.hstack((np.ones((y.size, 1)), X_norm))\n",
        "\n",
        "n = X.shape[1]\n",
        "w = np.zeros((n + 1, 1))\n",
        "\n",
        "learning_rate = 0.01\n",
        "num_iterations = 2000\n",
        "\n",
        "w, loss_history = grad_descent(X_norm, y_norm, w, num_iterations, learning_rate)"
      ],
      "metadata": {
        "id": "S3LWJqANN4g4"
      },
      "execution_count": 246,
      "outputs": []
    },
    {
      "cell_type": "markdown",
      "source": [
        "Аналітичне рішення"
      ],
      "metadata": {
        "id": "QGCuu4hk85tV"
      }
    },
    {
      "cell_type": "code",
      "source": [
        "X_norm_analytical = np.hstack((np.ones((y.size, 1)), X_norm[:, 1:]))\n",
        "w_analytical = np.linalg.inv(\n",
        "    X_norm_analytical.T @ X_norm_analytical\n",
        "    ) @ X_norm_analytical.T @ y_norm"
      ],
      "metadata": {
        "id": "qkpgPiflUGzI"
      },
      "execution_count": 247,
      "outputs": []
    },
    {
      "cell_type": "markdown",
      "source": [
        "Порівняння коефіцієнтів"
      ],
      "metadata": {
        "id": "hQCqm5dg8amY"
      }
    },
    {
      "cell_type": "code",
      "source": [
        "print(f'Коефіцієнти (аналітичне рішення): {w_analytical}')\n",
        "print(f'Коефіцієнти (градієнтий спуск): {w}')"
      ],
      "metadata": {
        "colab": {
          "base_uri": "https://localhost:8080/"
        },
        "id": "2dlSlRswURBd",
        "outputId": "8d17f94b-4e00-42e5-a339-fd23f0278fd7"
      },
      "execution_count": 248,
      "outputs": [
        {
          "output_type": "stream",
          "name": "stdout",
          "text": [
            "Коефіцієнти (аналітичне рішення): [[6.82595372e-16]\n",
            " [4.39452085e-01]\n",
            " [1.60528660e-01]\n",
            " [3.72344423e-01]]\n",
            "Коефіцієнти (градієнтий спуск): [[2.97205685e-16]\n",
            " [4.39452124e-01]\n",
            " [1.60528959e-01]\n",
            " [3.72344106e-01]]\n"
          ]
        }
      ]
    }
  ]
}